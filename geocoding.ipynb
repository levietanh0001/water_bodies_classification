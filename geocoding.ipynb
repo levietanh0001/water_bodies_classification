{
 "cells": [
  {
   "cell_type": "code",
   "execution_count": 1,
   "metadata": {},
   "outputs": [],
   "source": [
    "import requests"
   ]
  },
  {
   "cell_type": "code",
   "execution_count": 57,
   "metadata": {},
   "outputs": [],
   "source": [
    "lakes = ['Hồ Gươm', 'Hồ Tây', 'Hồ Trúc Bạch', 'Hồ Bẩy Mẫu', 'Hồ Thiền Quang', 'Hồ Văn', 'Hồ Linh Đàm', 'Hồ Ngọc Khán']\n",
    "test = ['Hồ Gươm', 'Hồ Tây']\n",
    "API_KEY = ''\n",
    "response_objects = []\n",
    "for address in lakes:\n",
    "    url = f'https://maps.googleapis.com/maps/api/geocode/json?address={address}&key={API_KEY}'\n",
    "    response_objects.append(requests.get(url))"
   ]
  },
  {
   "cell_type": "code",
   "execution_count": 67,
   "metadata": {},
   "outputs": [
    {
     "name": "stdout",
     "output_type": "stream",
     "text": [
      "dict_keys(['address_components', 'formatted_address', 'geometry', 'place_id', 'types'])\n"
     ]
    },
    {
     "data": {
      "text/html": [
       "<div>\n",
       "<style scoped>\n",
       "    .dataframe tbody tr th:only-of-type {\n",
       "        vertical-align: middle;\n",
       "    }\n",
       "\n",
       "    .dataframe tbody tr th {\n",
       "        vertical-align: top;\n",
       "    }\n",
       "\n",
       "    .dataframe thead th {\n",
       "        text-align: right;\n",
       "    }\n",
       "</style>\n",
       "<table border=\"1\" class=\"dataframe\">\n",
       "  <thead>\n",
       "    <tr style=\"text-align: right;\">\n",
       "      <th></th>\n",
       "      <th>name</th>\n",
       "      <th>lat</th>\n",
       "      <th>lng</th>\n",
       "    </tr>\n",
       "  </thead>\n",
       "  <tbody>\n",
       "    <tr>\n",
       "      <th>0</th>\n",
       "      <td>Hoàn Kiếm Lake</td>\n",
       "      <td>21.028667</td>\n",
       "      <td>105.852148</td>\n",
       "    </tr>\n",
       "    <tr>\n",
       "      <th>1</th>\n",
       "      <td>West Lake</td>\n",
       "      <td>21.053238</td>\n",
       "      <td>105.826094</td>\n",
       "    </tr>\n",
       "    <tr>\n",
       "      <th>2</th>\n",
       "      <td>Trúc Bạch Lake</td>\n",
       "      <td>21.045532</td>\n",
       "      <td>105.838571</td>\n",
       "    </tr>\n",
       "    <tr>\n",
       "      <th>3</th>\n",
       "      <td>Bay Mau Lake</td>\n",
       "      <td>21.010852</td>\n",
       "      <td>105.843299</td>\n",
       "    </tr>\n",
       "    <tr>\n",
       "      <th>4</th>\n",
       "      <td>Thien Quang Lake</td>\n",
       "      <td>21.018429</td>\n",
       "      <td>105.845543</td>\n",
       "    </tr>\n",
       "    <tr>\n",
       "      <th>5</th>\n",
       "      <td>Linh Dam Lake</td>\n",
       "      <td>20.968253</td>\n",
       "      <td>105.832332</td>\n",
       "    </tr>\n",
       "    <tr>\n",
       "      <th>6</th>\n",
       "      <td>Hồ Ngọc Khánh</td>\n",
       "      <td>21.027499</td>\n",
       "      <td>105.811051</td>\n",
       "    </tr>\n",
       "  </tbody>\n",
       "</table>\n",
       "</div>"
      ],
      "text/plain": [
       "               name        lat         lng\n",
       "0    Hoàn Kiếm Lake  21.028667  105.852148\n",
       "1         West Lake  21.053238  105.826094\n",
       "2    Trúc Bạch Lake  21.045532  105.838571\n",
       "3      Bay Mau Lake  21.010852  105.843299\n",
       "4  Thien Quang Lake  21.018429  105.845543\n",
       "5     Linh Dam Lake  20.968253  105.832332\n",
       "6     Hồ Ngọc Khánh  21.027499  105.811051"
      ]
     },
     "execution_count": 67,
     "metadata": {},
     "output_type": "execute_result"
    }
   ],
   "source": [
    "from pprint import pprint\n",
    "\n",
    "results = []\n",
    "for ro in response_objects:\n",
    "    response = ro.json()\n",
    "    res = response['results']\n",
    "    results.append(res)\n",
    "    \n",
    "\n",
    "names = []    \n",
    "lats = []\n",
    "lngs = []\n",
    "pprint(results[0][0].keys())\n",
    "for i in range(0, len(results)):\n",
    "    try:    \n",
    "        name = results[i][0]['address_components'][0]['long_name']\n",
    "        names.append(name)\n",
    "        lat = results[i][0]['geometry']['location']['lat']\n",
    "        lats.append(lat)\n",
    "        lng = results[i][0]['geometry']['location']['lng']\n",
    "        lngs.append(lng)\n",
    "    except:\n",
    "        continue\n",
    "\n",
    "\n",
    "import pandas as pd\n",
    "data = {\n",
    "    'name': names,\n",
    "    'lat': lats,\n",
    "    'lng': lngs, \n",
    "}\n",
    "df = pd.DataFrame(data)\n",
    "df"
   ]
  },
  {
   "cell_type": "code",
   "execution_count": null,
   "metadata": {},
   "outputs": [],
   "source": []
  },
  {
   "cell_type": "code",
   "execution_count": 68,
   "metadata": {},
   "outputs": [],
   "source": [
    "import dill\n",
    "dill.dump_session('sessions/geocoding.pkl')"
   ]
  },
  {
   "cell_type": "code",
   "execution_count": null,
   "metadata": {},
   "outputs": [],
   "source": [
    "import dill\n",
    "dill.load_session('sessions/geocoding.pkl')"
   ]
  }
 ],
 "metadata": {
  "interpreter": {
   "hash": "2be5faf79681da6f2a61fdfdd5405d65d042280f7fba6178067603e3a2925119"
  },
  "kernelspec": {
   "display_name": "Python 3.10.1 64-bit",
   "language": "python",
   "name": "python3"
  },
  "language_info": {
   "codemirror_mode": {
    "name": "ipython",
    "version": 3
   },
   "file_extension": ".py",
   "mimetype": "text/x-python",
   "name": "python",
   "nbconvert_exporter": "python",
   "pygments_lexer": "ipython3",
   "version": "3.10.1"
  },
  "orig_nbformat": 4
 },
 "nbformat": 4,
 "nbformat_minor": 2
}
