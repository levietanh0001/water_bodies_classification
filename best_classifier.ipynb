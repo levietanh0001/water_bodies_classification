{
 "cells": [
  {
   "cell_type": "code",
   "execution_count": 1,
   "metadata": {},
   "outputs": [
    {
     "name": "stdout",
     "output_type": "stream",
     "text": [
      "Fitting 10 folds for each of 200 candidates, totalling 2000 fits\n",
      "accuracy = 0.9636363636363636\n",
      "              precision    recall  f1-score   support\n",
      "\n",
      "           0       0.93      0.93      0.93        14\n",
      "           1       0.96      0.96      0.96        24\n",
      "           2       1.00      1.00      1.00        17\n",
      "\n",
      "    accuracy                           0.96        55\n",
      "   macro avg       0.96      0.96      0.96        55\n",
      "weighted avg       0.96      0.96      0.96        55\n",
      "\n",
      "SVC(C=10.0, gamma=1.0)\n",
      "lowest RMSE = 0.26967994498529685\n"
     ]
    },
    {
     "data": {
      "image/png": "[encoded data removed]",
      "text/plain": [
       "<Figure size 432x288 with 2 Axes>"
      ]
     },
     "metadata": {
      "needs_background": "light"
     },
     "output_type": "display_data"
    }
   ],
   "source": [
    "from sklearn.ensemble import StackingClassifier\n",
    "from sklearn.linear_model import LogisticRegression\n",
    "from sklearn.model_selection import GridSearchCV\n",
    "from sklearn.tree import DecisionTreeClassifier\n",
    "from sklearn.ensemble import RandomForestClassifier\n",
    "from sklearn.svm import SVC\n",
    "from sklearn.pipeline import make_pipeline\n",
    "from sklearn.preprocessing import StandardScaler\n",
    "from sklearn.neighbors import KNeighborsClassifier\n",
    "from xgboost import XGBClassifier\n",
    "from sklearn.naive_bayes import CategoricalNB\n",
    "from sklearn.naive_bayes import MultinomialNB\n",
    "from sklearn.naive_bayes import GaussianNB\n",
    "from sklearn.preprocessing import StandardScaler\n",
    "from sklearn.decomposition import PCA\n",
    "import dill\n",
    "\n",
    "\n",
    "import pandas as pd\n",
    "df = pd.read_csv(r\"./csv/clipped/all.csv\", encoding=\"utf-8-sig\", delimiter=',', thousands=r',', dtype=None, chunksize=None)\n",
    "X = df.drop(columns=['label','label_int'])\n",
    "y = df['label_int']\n",
    "\n",
    "\n",
    "import shutup\n",
    "shutup.please()\n",
    "\n",
    "\n",
    "X_scaled = StandardScaler().fit_transform(X)\n",
    "pca = PCA(n_components=2)\n",
    "X_pca = pca.fit_transform(X_scaled)\n",
    "\n",
    "\n",
    "from sklearn.model_selection import train_test_split\n",
    "X_pca_train, X_pca_test, y_train, y_test = train_test_split(X_pca, y, test_size=0.2, random_state=0)\n",
    "\n",
    "\n",
    "from sklearn.svm import SVC\n",
    "import numpy as np\n",
    "svc = SVC()\n",
    "param_grid = {\n",
    "    'kernel': ('linear', 'rbf', 'poly', 'sigmoid'), \n",
    "    'C': [np.float_power(10, i) for i in np.arange(-5, 5, 1)],\n",
    "    'gamma': [np.float_power(10, i) for i in np.arange(0, -5, -1)],\n",
    "    # 'epsilon': [0.07, 0.085]\n",
    "}\n",
    "svc_lowest_mse = GridSearchCV(svc, param_grid, cv=10, scoring='neg_mean_squared_error', verbose=1)\n",
    "svc_lowest_mse.fit(X_pca_train, y_train)\n",
    "\n",
    "from sklearn import metrics\n",
    "y_pred = svc_lowest_mse.predict(X_pca_test)\n",
    "print('accuracy =', metrics.accuracy_score(y_test, y_pred))\n",
    "\n",
    "\n",
    "from sklearn.metrics import plot_confusion_matrix, classification_report\n",
    "plot_confusion_matrix(svc_lowest_mse, X_pca_test, y_test)  \n",
    "print(classification_report(y_test, y_pred, labels=[0, 1, 2]))\n",
    "\n",
    "\n",
    "from numpy import average, median\n",
    "print(svc_lowest_mse.best_estimator_)\n",
    "rmse_lowest = (-svc_lowest_mse.best_score_)**(1/2.0)\n",
    "print(\"lowest RMSE =\", rmse_lowest)"
   ]
  },
  {
   "cell_type": "code",
   "execution_count": null,
   "metadata": {},
   "outputs": [],
   "source": [
    "import dill\n",
    "dill.load_session('sessions/best_classifier.pkl')"
   ]
  },
  {
   "cell_type": "code",
   "execution_count": 2,
   "metadata": {},
   "outputs": [],
   "source": [
    "import dill\n",
    "dill.dump_session('sessions/best_classifier.pkl')"
   ]
  },
  {
   "cell_type": "code",
   "execution_count": null,
   "metadata": {},
   "outputs": [],
   "source": []
  }
 ],
 "metadata": {
  "interpreter": {
   "hash": "2be5faf79681da6f2a61fdfdd5405d65d042280f7fba6178067603e3a2925119"
  },
  "kernelspec": {
   "display_name": "Python 3.10.1 64-bit",
   "language": "python",
   "name": "python3"
  },
  "language_info": {
   "codemirror_mode": {
    "name": "ipython",
    "version": 3
   },
   "file_extension": ".py",
   "mimetype": "text/x-python",
   "name": "python",
   "nbconvert_exporter": "python",
   "pygments_lexer": "ipython3",
   "version": "3.10.1"
  },
  "orig_nbformat": 4
 },
 "nbformat": 4,
 "nbformat_minor": 2
}
