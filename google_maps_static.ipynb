{
 "cells": [
  {
   "cell_type": "code",
   "execution_count": 10,
   "metadata": {},
   "outputs": [],
   "source": [
    "import requests\n",
    "API_KEY = ''\n",
    "maptype = 'satellite'\n",
    "size = '100x100'\n",
    "scale = 2\n",
    "zoom = '14'\n",
    "# lat = \n",
    "# lng = \n",
    "center = f'21.028667,105.852148'\n",
    "\n",
    "qs = f'https://maps.googleapis.com/maps/api/staticmap?center={center}&zoom={zoom}&size={size}&scale={scale}&maptype={maptype}&key={API_KEY}'\n",
    "response = requests.get(qs)\n",
    "# res = response.json()\n",
    "# result = res['results'][0]\n",
    "with open('./img/lake/ho_hoan_kiem.png', 'wb') as f:\n",
    "    f.write(response.content)\n",
    "    f.close()"
   ]
  },
  {
   "cell_type": "code",
   "execution_count": 2,
   "metadata": {},
   "outputs": [],
   "source": [
    "import dill\n",
    "dill.load_session('sessions/google_maps_static.pkl')"
   ]
  },
  {
   "cell_type": "code",
   "execution_count": 9,
   "metadata": {},
   "outputs": [],
   "source": [
    "import dill\n",
    "dill.dump_session('sessions/google_maps_static.pkl')"
   ]
  },
  {
   "cell_type": "code",
   "execution_count": null,
   "metadata": {},
   "outputs": [],
   "source": []
  }
 ],
 "metadata": {
  "interpreter": {
   "hash": "2be5faf79681da6f2a61fdfdd5405d65d042280f7fba6178067603e3a2925119"
  },
  "kernelspec": {
   "display_name": "Python 3.10.1 64-bit",
   "language": "python",
   "name": "python3"
  },
  "language_info": {
   "codemirror_mode": {
    "name": "ipython",
    "version": 3
   },
   "file_extension": ".py",
   "mimetype": "text/x-python",
   "name": "python",
   "nbconvert_exporter": "python",
   "pygments_lexer": "ipython3",
   "version": "3.10.1"
  },
  "orig_nbformat": 4
 },
 "nbformat": 4,
 "nbformat_minor": 2
}
